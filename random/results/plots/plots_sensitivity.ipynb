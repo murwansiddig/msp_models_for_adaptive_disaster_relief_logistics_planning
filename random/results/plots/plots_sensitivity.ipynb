{
 "cells": [
  {
   "cell_type": "code",
   "execution_count": 1,
   "id": "d68bc373",
   "metadata": {},
   "outputs": [],
   "source": [
    "using CSV, DataFrames, Plots, Plots.PlotMeasures, LaTeXStrings"
   ]
  },
  {
   "cell_type": "code",
   "execution_count": 8,
   "id": "7b163662",
   "metadata": {},
   "outputs": [],
   "source": [
    "states = [1, 3, 5]\n",
    "count = 0;\n",
    "myplots = [];\n",
    "for s=1:3\n",
    "    sensitivity = Matrix(CSV.read(\"sensitivity.csv\",DataFrame));\n",
    "    sensitivity = sensitivity[1+10*(s-1):10*s,:];\n",
    "    costf = collect(0.1:0.1:1)\n",
    "    T = collect(1:1:7)\n",
    "    p1 = plot3d(1, \n",
    "        xlim = (0.5,7),\n",
    "        ylim=(-0.1,1),\n",
    "        zlim = (0.0,maximum(sensitivity)+5),\n",
    "        label = false)\n",
    "    clcount=1.0;\n",
    "    clcount2=0.0;\n",
    "    for j=1:10\n",
    "        x = [];\n",
    "        y = [];\n",
    "        z = [];\n",
    "        for i=1:length(T)\n",
    "            push!(x, T[i])\n",
    "            push!(y, costf[j])\n",
    "            push!(z, sensitivity[j,i])\n",
    "        end \n",
    "        plot!(x,y,z, label = false, lw=9, lc=RGB(clcount2,0,clcount))\n",
    "        clcount -= 0.1\n",
    "        clcount2 += 0.1\n",
    "    end\n",
    "    plot!(p1,\n",
    "        xlabel=L\"t\",\n",
    "        ylabel= L\"\\nu\",\n",
    "        #zlabel=\"average procured items\",\n",
    "        zlabel=L\"\\bar{f}_t\",\n",
    "        lw=5,\n",
    "        windowsize=(800,500),\n",
    "        xtickfontsize = 12,\n",
    "        ytickfontsize = 12,\n",
    "        ztickfontsize = 12,\n",
    "        guidefont=25,\n",
    "        bottom_margin=10mm,\n",
    "        left_margin=10mm,\n",
    "        #right_margin=12mm,\n",
    "        gridlinewidth = 1,\n",
    "        camera = (20,60),\n",
    "        fmt = :png)\n",
    "        savefig(p1, \"./plots/sensitivity/p\"*string(states[s])*\".png\")\n",
    "end"
   ]
  },
  {
   "cell_type": "code",
   "execution_count": null,
   "id": "42f53da0",
   "metadata": {},
   "outputs": [],
   "source": []
  }
 ],
 "metadata": {
  "kernelspec": {
   "display_name": "Julia 1.6.4",
   "language": "julia",
   "name": "julia-1.6"
  },
  "language_info": {
   "file_extension": ".jl",
   "mimetype": "application/julia",
   "name": "julia",
   "version": "1.6.4"
  }
 },
 "nbformat": 4,
 "nbformat_minor": 5
}
