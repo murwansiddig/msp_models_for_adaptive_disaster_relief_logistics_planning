{
 "cells": [
  {
   "cell_type": "code",
   "execution_count": 59,
   "id": "d68bc373",
   "metadata": {},
   "outputs": [],
   "source": [
    "using CSV, DataFrames, Plots, Plots.PlotMeasures, LaTeXStrings, XLSX, GR"
   ]
  },
  {
   "cell_type": "code",
   "execution_count": 60,
   "id": "5df8bd12",
   "metadata": {},
   "outputs": [],
   "source": [
    "xf = XLSX.readxlsx(\"./gaps_benchmark/all.xlsx\")\n",
    "sh = xf[\"all\"] # get a reference to a Worksheet\n",
    "dt = sh[\"F1:I11\"];\n",
    "rhos = convert.(Float64,dt[2:size(dt)[1],1]);\n",
    "vals = convert.(Float64,dt[2:size(dt)[1],2:end]);\n",
    "policies = dt[1,2:end];"
   ]
  },
  {
   "cell_type": "code",
   "execution_count": 68,
   "id": "60c6ba6e",
   "metadata": {},
   "outputs": [
    {
     "ename": "LoadError",
     "evalue": "syntax: \"%\" is not a unary operator",
     "output_type": "error",
     "traceback": [
      "syntax: \"%\" is not a unary operator",
      "",
      "Stacktrace:",
      " [1] top-level scope",
      "   @ In[68]:7",
      " [2] eval",
      "   @ ./boot.jl:360 [inlined]",
      " [3] include_string(mapexpr::typeof(REPL.softscope), mod::Module, code::String, filename::String)",
      "   @ Base ./loading.jl:1116"
     ]
    }
   ],
   "source": [
    "p = gr()\n",
    "p = plot(\n",
    "    rhos,\n",
    "    vals.*100\"\\%\",\n",
    "    xlabel=L\"\\nu\",\n",
    "    ylabel= L\"\\textrm{Gap}\",\n",
    "    #lab=paste0(pretty(vals) * 100, \" %\"),\n",
    "    #Scale.y_continuous(labels = n -> \"$(n*100)%\"),\n",
    "    label=[policies[1] policies[2] policies[3]],\n",
    "    lw=7,\n",
    "    linecolor = [:black :red :blue],\n",
    "    leg=(0.81,0.95),\n",
    "    windowsize=(900,600),\n",
    "    xtickfontsize = 15,\n",
    "    ytickfontsize = 15,\n",
    "    guidefont=font(30),\n",
    "    bottom_margin=10mm,\n",
    "    left_margin=10mm,\n",
    "    frame=:box,\n",
    "    legendfontsize = 14,\n",
    "    widen = true,\n",
    "    fmt = :png\n",
    "        )\n",
    "#savefig(p, \"../plots/sensitivity/gaps.png\")"
   ]
  },
  {
   "cell_type": "code",
   "execution_count": 56,
   "id": "63b051d2",
   "metadata": {},
   "outputs": [
    {
     "ename": "LoadError",
     "evalue": "UndefVarError: pretty not defined",
     "output_type": "error",
     "traceback": [
      "UndefVarError: pretty not defined",
      "",
      "Stacktrace:",
      " [1] top-level scope",
      "   @ In[56]:5",
      " [2] eval",
      "   @ ./boot.jl:360 [inlined]",
      " [3] include_string(mapexpr::typeof(REPL.softscope), mod::Module, code::String, filename::String)",
      "   @ Base ./loading.jl:1116"
     ]
    }
   ],
   "source": [
    "dates = 1:10\n",
    "returns = rand(10)\n",
    "\n",
    "plot(dates, returns, yaxis=\"n\")\n",
    "axis(2, at=pretty(returns), lab=pretty(returns) * 100, las=TRUE)"
   ]
  },
  {
   "cell_type": "code",
   "execution_count": null,
   "id": "5d2cd352",
   "metadata": {},
   "outputs": [],
   "source": []
  }
 ],
 "metadata": {
  "kernelspec": {
   "display_name": "Julia 1.6.4",
   "language": "julia",
   "name": "julia-1.6"
  },
  "language_info": {
   "file_extension": ".jl",
   "mimetype": "application/julia",
   "name": "julia",
   "version": "1.6.4"
  }
 },
 "nbformat": 4,
 "nbformat_minor": 5
}
