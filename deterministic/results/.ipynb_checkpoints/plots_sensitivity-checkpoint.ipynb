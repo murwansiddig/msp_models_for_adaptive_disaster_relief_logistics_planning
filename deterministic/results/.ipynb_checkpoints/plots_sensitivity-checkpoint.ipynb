{
 "cells": [
  {
   "cell_type": "code",
   "execution_count": 1,
   "id": "d68bc373",
   "metadata": {},
   "outputs": [],
   "source": [
    "using CSV, DataFrames, Plots, Plots.PlotMeasures"
   ]
  },
  {
   "cell_type": "code",
   "execution_count": 3,
   "id": "a3da17cc",
   "metadata": {},
   "outputs": [],
   "source": [
    "states = [1, 3, 5]\n",
    "count = 0;\n",
    "for s=1:3\n",
    "    sensitivity = Matrix(CSV.read(\"sensitivity.csv\",DataFrame));\n",
    "    sensitivity = sensitivity[1+10*(s-1):10*s,:];\n",
    "\n",
    "    costf = collect(0.1:0.1:1)\n",
    "    T = collect(1:1:4)\n",
    "    p = plot3d(1, \n",
    "        xlim = (0.5,5),\n",
    "        ylim=(-0.1,1),\n",
    "        zlim = (0.0,maximum(sensitivity)+5),\n",
    "        label = false)\n",
    "    \n",
    "    clcount=1.0;\n",
    "    clcount2=0.0;\n",
    "    for j=1:10\n",
    "        x = [];\n",
    "        y = [];\n",
    "        z = [];\n",
    "        for i=1:4\n",
    "            push!(x, T[i])\n",
    "            push!(y, costf[j])\n",
    "            push!(z, sensitivity[j,i])\n",
    "        end \n",
    "        plot!(x,y,z, label = false, lw=9, lc=RGB(clcount2,0,clcount))\n",
    "        clcount -= 0.1\n",
    "        clcount2 += 0.1\n",
    "    end\n",
    "\n",
    "    plot!(\n",
    "        xlabel=\"t\",\n",
    "        ylabel= \"ν\",\n",
    "        #zlabel=\"average procured items\",\n",
    "        zlabel=\"f̄ₜ\",\n",
    "        lw=5,\n",
    "        windowsize=(1000,800),\n",
    "        xtickfontsize = 20,\n",
    "        ytickfontsize = 20,\n",
    "        ztickfontsize = 20,\n",
    "        guidefont=font(30),\n",
    "        bottom_margin=10mm,\n",
    "        left_margin=10mm,\n",
    "        right_margin=12mm,\n",
    "        gridlinewidth = 1,\n",
    "        camera = (20,60),\n",
    "        fmt = :png);\n",
    "        savefig(p, \"./plots/sensitivity/p\"*string(states[s])*\".png\")\n",
    "end"
   ]
  },
  {
   "cell_type": "code",
   "execution_count": null,
   "id": "14931e9a",
   "metadata": {},
   "outputs": [],
   "source": []
  }
 ],
 "metadata": {
  "kernelspec": {
   "display_name": "Julia 1.6.4",
   "language": "julia",
   "name": "julia-1.6"
  },
  "language_info": {
   "file_extension": ".jl",
   "mimetype": "application/julia",
   "name": "julia",
   "version": "1.6.4"
  }
 },
 "nbformat": 4,
 "nbformat_minor": 5
}
