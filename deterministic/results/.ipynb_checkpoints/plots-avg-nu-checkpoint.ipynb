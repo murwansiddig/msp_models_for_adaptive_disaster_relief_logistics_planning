{
 "cells": [
  {
   "cell_type": "code",
   "execution_count": 24,
   "id": "9aa31b45",
   "metadata": {},
   "outputs": [],
   "source": [
    "using CSV, DataFrames, Plots, Plots.PlotMeasures, StatsPlots, LaTeXStrings, Statistics"
   ]
  },
  {
   "cell_type": "code",
   "execution_count": 25,
   "id": "1578c629",
   "metadata": {},
   "outputs": [],
   "source": [
    "raw = CSV.read(\"saveme.csv\",DataFrame);\n",
    "data = Matrix(raw);\n",
    "df = DataFrame(\"FA-MSP-D\" => data[:,1] , \"static2SSP-D\" => data[:,5], \"RH2SSP-D\" => data[:,9]);\n",
    "matrix = Matrix(df);"
   ]
  },
  {
   "cell_type": "code",
   "execution_count": 26,
   "id": "2bfecf65",
   "metadata": {},
   "outputs": [],
   "source": [
    "rho = [\"0.001\", \"0.60\", \"5.00\"];\n",
    "avg_data = Array{Float64, 2}(undef, 3, 3);\n",
    "for r=1:length(rho)\n",
    "    from = (r-1)*9+1\n",
    "    to = (r-1)*9+9\n",
    "    avg_data[r,:] = [mean(matrix[from:to,k]) for k=1:3] \n",
    "end"
   ]
  },
  {
   "cell_type": "code",
   "execution_count": 27,
   "id": "8a7014b2",
   "metadata": {},
   "outputs": [],
   "source": [
    "policies = [\"FA-MSP-D\",\"RH2SSP-D\",\"static2SSP-D\"];"
   ]
  },
  {
   "cell_type": "code",
   "execution_count": 28,
   "id": "91ef8bd7",
   "metadata": {},
   "outputs": [],
   "source": [
    "p = groupedbar(\n",
    "    rho,\n",
    "    avg_data,\n",
    "    xlabel=L\"\\nu\",\n",
    "    ylabel=L\"\\textrm{value~of}~\\hat{z}~\\textrm{on~average}\",\n",
    "    label=[policies[1] policies[2] policies[3]],\n",
    "    bar_position = :dodge,\n",
    "    bar_width=0.7,\n",
    "    color = [:black :red :blue],\n",
    "    leg=(0.1,0.95),\n",
    "    windowsize=(1000,550),\n",
    "    xtickfontsize = 12,\n",
    "    ytickfontsize = 12,\n",
    "    guidefont=font(15),\n",
    "    bottom_margin=10mm,\n",
    "    left_margin=5mm,\n",
    "    frame=:box,\n",
    "    legendfontsize = 13,\n",
    "    widen = true,\n",
    "    legend = false,\n",
    "    fmt = :png\n",
    "    )\n",
    "savefig(p, \"./plots/averages/all_avg.png\")\n"
   ]
  },
  {
   "cell_type": "code",
   "execution_count": null,
   "id": "254429c1",
   "metadata": {},
   "outputs": [],
   "source": []
  },
  {
   "cell_type": "code",
   "execution_count": null,
   "id": "35043a2b",
   "metadata": {},
   "outputs": [],
   "source": []
  }
 ],
 "metadata": {
  "kernelspec": {
   "display_name": "Julia 1.6.4",
   "language": "julia",
   "name": "julia-1.6"
  },
  "language_info": {
   "file_extension": ".jl",
   "mimetype": "application/julia",
   "name": "julia",
   "version": "1.6.4"
  }
 },
 "nbformat": 4,
 "nbformat_minor": 5
}
