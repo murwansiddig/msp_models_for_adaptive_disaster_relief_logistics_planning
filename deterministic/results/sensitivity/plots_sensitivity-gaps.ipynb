{
 "cells": [
  {
   "cell_type": "code",
   "execution_count": 1,
   "id": "d68bc373",
   "metadata": {},
   "outputs": [],
   "source": [
    "using CSV, DataFrames, Plots, Plots.PlotMeasures, LaTeXStrings, XLSX#, GR"
   ]
  },
  {
   "cell_type": "code",
   "execution_count": 6,
   "id": "384cf6de",
   "metadata": {},
   "outputs": [],
   "source": [
    "xf = XLSX.readxlsx(\"./gaps_benchmark/all.xlsx\")\n",
    "sh = xf[\"all\"] # get a reference to a Worksheet\n",
    "dt = sh[\"F1:I52\"];\n",
    "rhos = convert.(Float64,dt[2:size(dt)[1],1]);\n",
    "vals = convert.(Float64,dt[2:size(dt)[1],2:end]);\n",
    "policies = dt[1,2:end];\n",
    "policies = [ \"FA-MSP-D\", \"RH-2SSP-D\", \"S-2SSP-D\"];"
   ]
  },
  {
   "cell_type": "code",
   "execution_count": 7,
   "id": "8fd862da",
   "metadata": {},
   "outputs": [],
   "source": [
    "#p = gr()\n",
    "p = plot(\n",
    "    rhos,\n",
    "    vals,\n",
    "    xlabel=L\"\\nu\",\n",
    "    ylabel= L\"\\textrm{gap}\",\n",
    "    yformatter=y->(string(y*100)*\"%\"),\n",
    "    label=[policies[1] policies[2] policies[3]],\n",
    "    lw=7,\n",
    "    linecolor = [:black :red :blue],\n",
    "    leg=(0.8,0.95),\n",
    "    windowsize=(900,600),\n",
    "    xtickfontsize = 11,\n",
    "    ytickfontsize = 11,\n",
    "    guidefont=font(30),\n",
    "    bottom_margin=10mm,\n",
    "    left_margin=10mm,\n",
    "    frame=:box,\n",
    "    legendfontsize = 14,\n",
    "    widen = true,\n",
    "    fmt = :png\n",
    "        )\n",
    "savefig(p, \"../plots/sensitivity/gaps.png\")"
   ]
  },
  {
   "cell_type": "code",
   "execution_count": null,
   "id": "0310b6a8",
   "metadata": {},
   "outputs": [],
   "source": []
  }
 ],
 "metadata": {
  "kernelspec": {
   "display_name": "Julia 1.6.4",
   "language": "julia",
   "name": "julia-1.6"
  },
  "language_info": {
   "file_extension": ".jl",
   "mimetype": "application/julia",
   "name": "julia",
   "version": "1.6.4"
  }
 },
 "nbformat": 4,
 "nbformat_minor": 5
}
